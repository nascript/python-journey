{
 "cells": [
  {
   "cell_type": "markdown",
   "metadata": {},
   "source": [
    "## BASED CONTENT"
   ]
  },
  {
   "cell_type": "code",
   "execution_count": 3,
   "metadata": {},
   "outputs": [
    {
     "name": "stdout",
     "output_type": "stream",
     "text": [
      "Rekomendasi restoran untuk Resto A: ['Resto B', 'Resto C', 'Resto D']\n"
     ]
    }
   ],
   "source": [
    "import pandas as pd\n",
    "from sklearn.feature_extraction.text import TfidfVectorizer\n",
    "from sklearn.metrics.pairwise import linear_kernel\n",
    "\n",
    "# Data contoh (Anda dapat mengganti data ini dengan dataset restoran yang sesuai)\n",
    "data = pd.DataFrame({\n",
    "    'Nama Restoran': ['Resto A', 'Resto B', 'Resto C', 'Resto D'],\n",
    "    'Jenis Makanan': ['Italia', 'Indonesia', 'Jepang', 'Indonesia'],\n",
    "    'Harga': ['Mahal', 'Sedang', 'Murah', 'Sedang'],\n",
    "    'Ulasan': ['Enak banget!', 'Pelayanan kurang', 'Sushi terbaik', 'Makanan lezat']\n",
    "})\n",
    "\n",
    "# Menggabungkan fitur-fitur menjadi satu kolom teks\n",
    "data['Features'] = data['Jenis Makanan'] + ' ' + data['Harga'] + ' ' + data['Ulasan']\n",
    "\n",
    "# Menghitung TF-IDF (Term Frequency-Inverse Document Frequency)\n",
    "tfidf_vectorizer = TfidfVectorizer(stop_words='english')\n",
    "tfidf_matrix = tfidf_vectorizer.fit_transform(data['Features'])\n",
    "\n",
    "# Menghitung cosine similarity antar restoran\n",
    "cosine_similarities = linear_kernel(tfidf_matrix, tfidf_matrix)\n",
    "\n",
    "# Fungsi untuk memberikan rekomendasi\n",
    "def get_recommendations(resto_name):\n",
    "    resto_index = data.index[data['Nama Restoran'] == resto_name].tolist()[0]\n",
    "    sim_scores = list(enumerate(cosine_similarities[resto_index]))\n",
    "    sim_scores = sorted(sim_scores, key=lambda x: x[1], reverse=True)\n",
    "    sim_scores = sim_scores[1:4]  # Ambil 3 restoran teratas (exluding itself)\n",
    "\n",
    "    recommended_restos = [data['Nama Restoran'][i[0]] for i in sim_scores]\n",
    "\n",
    "    return recommended_restos\n",
    "\n",
    "# Contoh penggunaan\n",
    "resto_name = 'Resto A'\n",
    "recommendations = get_recommendations(resto_name)\n",
    "\n",
    "print(f\"Rekomendasi restoran untuk {resto_name}: {recommendations}\")\n"
   ]
  },
  {
   "cell_type": "markdown",
   "metadata": {},
   "source": [
    "## BASED COLABORATIVE USER"
   ]
  },
  {
   "cell_type": "code",
   "execution_count": 4,
   "metadata": {},
   "outputs": [
    {
     "name": "stdout",
     "output_type": "stream",
     "text": [
      "Prediction for user 1 and item 3: 2.982477780214206\n"
     ]
    }
   ],
   "source": [
    "import numpy as np\n",
    "from sklearn.metrics.pairwise import cosine_similarity\n",
    "\n",
    "# Sample data (user, item, rating)\n",
    "data = np.array([\n",
    "    [1, 1, 5],\n",
    "    [1, 2, 4],\n",
    "    [1, 3, 3],\n",
    "    [2, 1, 4],\n",
    "    [2, 2, 5],\n",
    "    [2, 3, 2],\n",
    "    [3, 1, 3],\n",
    "    [3, 2, 2],\n",
    "    [3, 3, 4],\n",
    "])\n",
    "\n",
    "# Create user-item matrix\n",
    "num_users = np.max(data[:, 0])\n",
    "num_items = np.max(data[:, 1])\n",
    "ratings_matrix = np.zeros((num_users, num_items))\n",
    "\n",
    "for row in data:\n",
    "    user, item, rating = row\n",
    "    ratings_matrix[user - 1, item - 1] = rating\n",
    "\n",
    "# Calculate user similarity using cosine similarity\n",
    "user_similarity = cosine_similarity(ratings_matrix)\n",
    "\n",
    "def predict_rating(user_id, item_id):\n",
    "    sim_scores = user_similarity[user_id - 1]\n",
    "    item_ratings = ratings_matrix[:, item_id - 1]\n",
    "    relevant_users = item_ratings.nonzero()[0]\n",
    "\n",
    "    if len(relevant_users) == 0:\n",
    "        return 0\n",
    "\n",
    "    weighted_sum = np.sum(sim_scores[relevant_users] * item_ratings[relevant_users])\n",
    "    weighted_sum /= np.sum(np.abs(sim_scores[relevant_users]))\n",
    "\n",
    "    return weighted_sum\n",
    "\n",
    "# Example usage\n",
    "user_id = 1\n",
    "item_id = 3\n",
    "predicted_rating = predict_rating(user_id, item_id)\n",
    "print(f\"Prediction for user {user_id} and item {item_id}: {predicted_rating}\")\n"
   ]
  },
  {
   "cell_type": "markdown",
   "metadata": {},
   "source": [
    "## Hybrid"
   ]
  },
  {
   "cell_type": "code",
   "execution_count": 5,
   "metadata": {},
   "outputs": [
    {
     "name": "stdout",
     "output_type": "stream",
     "text": [
      "Recommendations for Resto A: ['Resto B', 'Resto C', 'Resto D']\n"
     ]
    }
   ],
   "source": [
    "import pandas as pd\n",
    "from sklearn.feature_extraction.text import TfidfVectorizer\n",
    "from sklearn.metrics.pairwise import linear_kernel\n",
    "\n",
    "# Sample data (replace it with your restaurant dataset)\n",
    "data = pd.DataFrame({\n",
    "    'Restaurant Name': ['Resto A', 'Resto B', 'Resto C', 'Resto D'],\n",
    "    'Cuisine Type': ['Italian', 'Indonesian', 'Japanese', 'Indonesian'],\n",
    "    'Price Range': ['Expensive', 'Moderate', 'Affordable', 'Moderate'],\n",
    "    'Review': ['Delicious!', 'Service needs improvement', 'Best sushi', 'Tasty food']\n",
    "})\n",
    "\n",
    "# Combine features into a single text column\n",
    "data['Features'] = data['Cuisine Type'] + ' ' + data['Price Range'] + ' ' + data['Review']\n",
    "\n",
    "# Calculate TF-IDF (Term Frequency-Inverse Document Frequency)\n",
    "tfidf_vectorizer = TfidfVectorizer(stop_words='english')\n",
    "tfidf_matrix = tfidf_vectorizer.fit_transform(data['Features'])\n",
    "\n",
    "# Calculate cosine similarity between restaurants\n",
    "cosine_similarities = linear_kernel(tfidf_matrix, tfidf_matrix)\n",
    "\n",
    "# Function to provide recommendations\n",
    "def get_recommendations(restaurant_name):\n",
    "    restaurant_index = data.index[data['Restaurant Name'] == restaurant_name].tolist()[0]\n",
    "    sim_scores = list(enumerate(cosine_similarities[restaurant_index]))\n",
    "    sim_scores = sorted(sim_scores, key=lambda x: x[1], reverse=True)\n",
    "    sim_scores = sim_scores[1:4]  # Take the top 3 restaurants (excluding itself)\n",
    "\n",
    "    recommended_restaurants = [data['Restaurant Name'][i[0]] for i in sim_scores]\n",
    "\n",
    "    return recommended_restaurants\n",
    "\n",
    "# Example usage\n",
    "restaurant_name = 'Resto A'\n",
    "recommendations = get_recommendations(restaurant_name)\n",
    "\n",
    "print(f\"Recommendations for {restaurant_name}: {recommendations}\")\n"
   ]
  }
 ],
 "metadata": {
  "kernelspec": {
   "display_name": "Python 3",
   "language": "python",
   "name": "python3"
  },
  "language_info": {
   "codemirror_mode": {
    "name": "ipython",
    "version": 3
   },
   "file_extension": ".py",
   "mimetype": "text/x-python",
   "name": "python",
   "nbconvert_exporter": "python",
   "pygments_lexer": "ipython3",
   "version": "3.11.1"
  }
 },
 "nbformat": 4,
 "nbformat_minor": 2
}
